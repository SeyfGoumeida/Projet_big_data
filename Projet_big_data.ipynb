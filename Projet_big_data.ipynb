{
  "nbformat": 4,
  "nbformat_minor": 0,
  "metadata": {
    "colab": {
      "name": "Projet_big_data.ipynb",
      "provenance": [],
      "collapsed_sections": [],
      "include_colab_link": true
    },
    "kernelspec": {
      "name": "python3",
      "display_name": "Python 3"
    },
    "language_info": {
      "name": "python"
    }
  },
  "cells": [
    {
      "cell_type": "markdown",
      "metadata": {
        "id": "view-in-github",
        "colab_type": "text"
      },
      "source": [
        "<a href=\"https://colab.research.google.com/github/Erifai/Bigdata_apache_spark/blob/main/Projet_big_data.ipynb\" target=\"_parent\"><img src=\"https://colab.research.google.com/assets/colab-badge.svg\" alt=\"Open In Colab\"/></a>"
      ]
    },
    {
      "cell_type": "markdown",
      "metadata": {
        "id": "RlJ0_eQjVVvZ"
      },
      "source": [
        "# **Projet de big data**"
      ]
    },
    {
      "cell_type": "markdown",
      "metadata": {
        "id": "Ybqj7CCfVhAy"
      },
      "source": [
        "## **Mise en place de l’environnement de travail**"
      ]
    },
    {
      "cell_type": "markdown",
      "metadata": {
        "id": "LlgaGhINmslA"
      },
      "source": [
        "### Installation du scikit-learn & matplotlib"
      ]
    },
    {
      "cell_type": "code",
      "metadata": {
        "id": "rLAxsGUDYg4b"
      },
      "source": [
        "#install scikit-learn\n",
        " #  ! pip install -U scikit-learn\n",
        "\n",
        "#install matplotlib\n",
        " #  ! pip install -U matplotlib"
      ],
      "execution_count": 1,
      "outputs": []
    },
    {
      "cell_type": "markdown",
      "metadata": {
        "id": "ZM4ntRWBa_pU"
      },
      "source": [
        "### installation du spark\n"
      ]
    },
    {
      "cell_type": "markdown",
      "metadata": {
        "id": "ZDRqP_fWh_US"
      },
      "source": [
        "Pour exécuter spark dans Colab, nous devons d'abord installer toutes les dépendances dans l'environnement Colab, c'est-à-dire Apache Spark 3.1.1 avec hadoop 2.7, Java 8 et Findspark pour localiser spark dans le système."
      ]
    },
    {
      "cell_type": "code",
      "metadata": {
        "id": "fAOUjCUWa5hB"
      },
      "source": [
        "!apt-get install openjdk-8-jdk-headless -qq > /dev/null"
      ],
      "execution_count": 2,
      "outputs": []
    },
    {
      "cell_type": "code",
      "metadata": {
        "id": "IwPUU8fVbNtl"
      },
      "source": [
        "!wget -q https://downloads.apache.org/spark/spark-3.1.1/spark-3.1.1-bin-hadoop2.7.tgz\n"
      ],
      "execution_count": 3,
      "outputs": []
    },
    {
      "cell_type": "code",
      "metadata": {
        "id": "JbR9CdZqbRlY"
      },
      "source": [
        "!tar xf spark-3.1.1-bin-hadoop2.7.tgz\n"
      ],
      "execution_count": 4,
      "outputs": []
    },
    {
      "cell_type": "code",
      "metadata": {
        "id": "gTm3OovjbVth"
      },
      "source": [
        "!pip install -q findspark"
      ],
      "execution_count": 5,
      "outputs": []
    },
    {
      "cell_type": "markdown",
      "metadata": {
        "id": "2vHQjc1YiSxq"
      },
      "source": [
        "Maintenant que nous avons installé Spark et Java dans Colab, il est temps de définir le chemin d'environnement qui vnous permet d'exécuter Pyspark dans notre environnement Colab."
      ]
    },
    {
      "cell_type": "code",
      "metadata": {
        "id": "ClDAANv6bZZZ"
      },
      "source": [
        "import os\n",
        "os.environ[\"JAVA_HOME\"] = \"/usr/lib/jvm/java-8-openjdk-amd64\"\n",
        "os.environ[\"SPARK_HOME\"] = \"/content/spark-3.1.1-bin-hadoop2.7\""
      ],
      "execution_count": 6,
      "outputs": []
    },
    {
      "cell_type": "code",
      "metadata": {
        "colab": {
          "base_uri": "https://localhost:8080/",
          "height": 0
        },
        "id": "5GRF6bFvbifI",
        "outputId": "bcaeee20-ac1a-4997-da21-092c80297e8b"
      },
      "source": [
        "#verfication du type\n",
        "os.environ[\"SPARK_HOME\"]"
      ],
      "execution_count": 7,
      "outputs": [
        {
          "output_type": "execute_result",
          "data": {
            "application/vnd.google.colaboratory.intrinsic+json": {
              "type": "string"
            },
            "text/plain": [
              "'/content/spark-3.1.1-bin-hadoop2.7'"
            ]
          },
          "metadata": {
            "tags": []
          },
          "execution_count": 7
        }
      ]
    },
    {
      "cell_type": "markdown",
      "metadata": {
        "id": "TJmouCSTnCiy"
      },
      "source": [
        "### Creation de Sparkcontext & Sparksession"
      ]
    },
    {
      "cell_type": "code",
      "metadata": {
        "id": "-1gSHe_xnSVG"
      },
      "source": [
        "#SparkContext\n",
        "#We need to locate Spark in the system. For that, we import findspark and use the findspark.init() method.\n",
        "import findspark\n",
        "findspark.init()\n",
        "from pyspark import SparkContext\n",
        "sc = SparkContext(\"local\", \"my_app\")"
      ],
      "execution_count": 8,
      "outputs": []
    },
    {
      "cell_type": "code",
      "metadata": {
        "id": "yr7e9K43nhTU"
      },
      "source": [
        "#SparkSession\n",
        "from pyspark.sql import SparkSession\n",
        "spark = SparkSession.builder\\\n",
        "        .master(\"local\")\\\n",
        "        .appName(\"my_app\")\\\n",
        "        .config('spark.ui.port', '4050')\\\n",
        "        .getOrCreate()"
      ],
      "execution_count": 9,
      "outputs": []
    },
    {
      "cell_type": "markdown",
      "metadata": {
        "id": "YPQotn0jS8NP"
      },
      "source": [
        "## **Génération de données**"
      ]
    },
    {
      "cell_type": "code",
      "metadata": {
        "id": "uUJY0Jy-TDfb"
      },
      "source": [
        "import numpy as np\n",
        "import pandas as pd\n",
        "from sklearn.datasets import make_blobs\n",
        "X,y= make_blobs(n_samples=100, centers=3, n_features=2,random_state=0)\n",
        "Y=[]\n",
        "for i in range(0,len(y)):\n",
        "  k=[y[i]]\n",
        "  Y.append(k)\n",
        "X = np.append(X, Y, 1)"
      ],
      "execution_count": 10,
      "outputs": []
    },
    {
      "cell_type": "code",
      "metadata": {
        "id": "hD7r3lkGk8-B"
      },
      "source": [
        "from pyspark.sql.types import Row\n",
        "rdd = sc.parallelize(X)\n",
        "df = rdd.map(lambda c: Row(first_feature=float(c[0]), second_feature=float(c[1]), label=int(c[2]))).toDF()"
      ],
      "execution_count": 11,
      "outputs": []
    },
    {
      "cell_type": "code",
      "metadata": {
        "colab": {
          "base_uri": "https://localhost:8080/"
        },
        "id": "XTjH-f0r45Wd",
        "outputId": "501779c2-280e-48de-920e-bb6cad0f2362"
      },
      "source": [
        "df.show()"
      ],
      "execution_count": 12,
      "outputs": [
        {
          "output_type": "stream",
          "text": [
            "+--------------------+-------------------+-----+\n",
            "|       first_feature|     second_feature|label|\n",
            "+--------------------+-------------------+-----+\n",
            "|   2.631858338047819| 0.6893649043599419|    1|\n",
            "| 0.08080351735281943|  4.690689825307652|    0|\n",
            "|   3.002519489206626| 0.7426535668471026|    1|\n",
            "| -0.6376277690114565|  4.091047047234421|    0|\n",
            "|-0.07228288652059756|  2.883769390269415|    0|\n",
            "|  0.6283579292203425|   4.46013629655237|    0|\n",
            "|  -2.674372665633008| 2.4800622165886885|    2|\n",
            "| -0.5774832062961446| 3.0054335027183137|    2|\n",
            "|  2.7275622784453133| 1.3051254961790473|    1|\n",
            "| 0.34194798486553146|  3.941046161461252|    0|\n",
            "|  1.7053606407240318| 4.4327702382058005|    0|\n",
            "|  2.2065607592742156|  5.506167176232801|    0|\n",
            "|   2.520929961163338|-0.6385800263392869|    1|\n",
            "|   2.509049292904953| 5.7731460973486755|    0|\n",
            "| -2.2716588352703453| 2.0914437226741085|    2|\n",
            "|   3.922826481859448| 1.8037083182133222|    1|\n",
            "| -1.6253565376473378| 2.2544039749710154|    2|\n",
            "|   0.163123796502041|  2.577504725116713|    0|\n",
            "| -1.5951456185465367|   4.63122498298249|    2|\n",
            "|  -2.631287352650356|  2.970047340594097|    2|\n",
            "+--------------------+-------------------+-----+\n",
            "only showing top 20 rows\n",
            "\n"
          ],
          "name": "stdout"
        }
      ]
    },
    {
      "cell_type": "code",
      "metadata": {
        "colab": {
          "base_uri": "https://localhost:8080/"
        },
        "id": "w5D_2gKjDXn7",
        "outputId": "0bd203e1-d2c7-4230-c955-68c88e47c65f"
      },
      "source": [
        "X,y= make_blobs(n_samples=200, centers=5, n_features=5,random_state=0)\n",
        "Y=[]\n",
        "for i in range(0,len(y)):\n",
        "  k=[y[i]]\n",
        "  Y.append(k)\n",
        "X_old = X\n",
        "X = np.append(X, Y, 1)\n",
        "rdd = sc.parallelize(X)\n",
        "df = rdd.map(lambda c: Row(x1=float(c[0]), x2=float(c[1]), x3=float(c[2]), x4=float(c[3]),x5=float(c[4]),label=int(c[5]))).toDF()\n",
        "df.show()"
      ],
      "execution_count": 13,
      "outputs": [
        {
          "output_type": "stream",
          "text": [
            "+-------------------+-------------------+--------------------+------------------+-------------------+-----+\n",
            "|                 x1|                 x2|                  x3|                x4|                 x5|label|\n",
            "+-------------------+-------------------+--------------------+------------------+-------------------+-----+\n",
            "|  9.737447531579186|  6.579859063057388|-0.00963015514521...| 6.577064878777346| -7.768403717212576|    4|\n",
            "|   -9.1877177533997| -8.706651939188918|   8.347858743793314| 5.549507509807856|  7.124050957666331|    3|\n",
            "|  -8.31459870616134|-10.533293810038192|   6.089086872586623| 6.456398445553255|  6.960131670034357|    3|\n",
            "| 11.349884029749012|  6.486650408782675| -0.7634931991348638|  5.30927631993705|-7.7316191225388735|    4|\n",
            "| 2.0922085326695736|  5.643240343996315| 0.28783387004372885|1.3220761187662515|-0.4375949681172917|    0|\n",
            "| 4.0241937913781385|  2.108725192812341|  1.3276401286681156| 8.439950728053807| -8.510625857746506|    2|\n",
            "| -7.648884964639811|-10.462421619445085|   6.086206236602841| 5.286682270599978|   5.25820246041752|    3|\n",
            "| -8.174720916674143| -8.573063647073708|   5.173345201817915| 7.464186407100508|   6.52692524110147|    3|\n",
            "|-11.150208301693587|-10.357033382748115|   8.627534751277032| 6.669069137961834|  8.513441321127553|    3|\n",
            "|  8.193316401161752|  4.485048994893726|  1.1384891879052663|6.2965629617746055| -9.254264599981665|    4|\n",
            "|  4.115142126191094|-1.6307419881606213|   8.527121934011419| 9.627140221495804|-1.2835842860666313|    1|\n",
            "|  0.137939113014385|  4.684951071883764|  1.0643642392752943|1.9155437096552215|-1.1853166172777683|    0|\n",
            "| 0.7671414611818693|  4.908359604278473|  0.3122092905098959|2.4218904727036934|0.33667130456610317|    0|\n",
            "| -8.940375993045423|-10.248758556938975|   7.082163560478191| 5.389863047815111|  8.480844215147473|    3|\n",
            "|  9.446238673862357|  5.734584719432153| -0.4082611952260215| 5.197087453739938|-6.0941225706388895|    4|\n",
            "| 10.356071367964951|  6.645290480420435| 0.18162732348424881| 4.979636150652692| -9.054788745559323|    4|\n",
            "| 1.3076388013174252| 0.1823461232260637|   6.110074294085781| 9.632504798662717| -1.449234669414756|    1|\n",
            "|  9.297876791153074|  7.355057713696429| -1.0665178373906505| 5.392566642055207| -7.174854365099706|    4|\n",
            "| 1.6532868231321063|-0.3913225992272097|   7.341465669759662| 9.287891868443028|-3.9376360822322782|    1|\n",
            "| 10.065130946318524|  6.490126014003019| -0.6272304911959674|5.1050202177861586| -8.922794266902553|    4|\n",
            "+-------------------+-------------------+--------------------+------------------+-------------------+-----+\n",
            "only showing top 20 rows\n",
            "\n"
          ],
          "name": "stdout"
        }
      ]
    },
    {
      "cell_type": "markdown",
      "metadata": {
        "id": "jIB-5C75FEOU"
      },
      "source": [
        "## **Analyse descriptive**"
      ]
    },
    {
      "cell_type": "markdown",
      "metadata": {
        "id": "4jrnczVzHQoJ"
      },
      "source": [
        "### Summary\n"
      ]
    },
    {
      "cell_type": "code",
      "metadata": {
        "colab": {
          "base_uri": "https://localhost:8080/",
          "height": 0
        },
        "id": "FyuSfDTaFl4H",
        "outputId": "1b310eca-8f37-4fd9-cfe6-115d28ca1760"
      },
      "source": [
        "def describe_pd(df_in, columns, deciles=False):\n",
        "    if deciles:\n",
        "        percentiles = np.array(range(0, 110, 10))\n",
        "    else:\n",
        "        percentiles = [25, 50, 75]\n",
        "\n",
        "    percs = np.transpose([np.percentile(df_in.select(x).collect(), percentiles) for x in columns])\n",
        "    percs = pd.DataFrame(percs, columns=columns)\n",
        "    percs['summary'] = [str(p) + '%' for p in percentiles]\n",
        "\n",
        "    spark_describe = df_in.describe().toPandas()\n",
        "    new_df = pd.concat([spark_describe, percs],ignore_index=True)\n",
        "    new_df = new_df.round(2)\n",
        "    return new_df[['summary'] + columns]\n",
        "\n",
        "num_cols = ['x1','x2','x3','x4','x5']\n",
        "describe_pd(df,num_cols)"
      ],
      "execution_count": 14,
      "outputs": [
        {
          "output_type": "execute_result",
          "data": {
            "text/html": [
              "<div>\n",
              "<style scoped>\n",
              "    .dataframe tbody tr th:only-of-type {\n",
              "        vertical-align: middle;\n",
              "    }\n",
              "\n",
              "    .dataframe tbody tr th {\n",
              "        vertical-align: top;\n",
              "    }\n",
              "\n",
              "    .dataframe thead th {\n",
              "        text-align: right;\n",
              "    }\n",
              "</style>\n",
              "<table border=\"1\" class=\"dataframe\">\n",
              "  <thead>\n",
              "    <tr style=\"text-align: right;\">\n",
              "      <th></th>\n",
              "      <th>summary</th>\n",
              "      <th>x1</th>\n",
              "      <th>x2</th>\n",
              "      <th>x3</th>\n",
              "      <th>x4</th>\n",
              "      <th>x5</th>\n",
              "    </tr>\n",
              "  </thead>\n",
              "  <tbody>\n",
              "    <tr>\n",
              "      <th>0</th>\n",
              "      <td>count</td>\n",
              "      <td>200</td>\n",
              "      <td>200</td>\n",
              "      <td>200</td>\n",
              "      <td>200</td>\n",
              "      <td>200</td>\n",
              "    </tr>\n",
              "    <tr>\n",
              "      <th>1</th>\n",
              "      <td>mean</td>\n",
              "      <td>2.0352039019903487</td>\n",
              "      <td>0.003699472722128785</td>\n",
              "      <td>3.365045567798552</td>\n",
              "      <td>6.04154518922876</td>\n",
              "      <td>-2.7039139824101306</td>\n",
              "    </tr>\n",
              "    <tr>\n",
              "      <th>2</th>\n",
              "      <td>stddev</td>\n",
              "      <td>6.091311749909026</td>\n",
              "      <td>5.597032397504089</td>\n",
              "      <td>3.3505582477661533</td>\n",
              "      <td>3.0546488133009717</td>\n",
              "      <td>5.790982463724554</td>\n",
              "    </tr>\n",
              "    <tr>\n",
              "      <th>3</th>\n",
              "      <td>min</td>\n",
              "      <td>-11.150208301693587</td>\n",
              "      <td>-11.552820249640057</td>\n",
              "      <td>-3.225531214536107</td>\n",
              "      <td>-1.0430520160836434</td>\n",
              "      <td>-10.830307128490329</td>\n",
              "    </tr>\n",
              "    <tr>\n",
              "      <th>4</th>\n",
              "      <td>max</td>\n",
              "      <td>12.17324601697663</td>\n",
              "      <td>7.818472543729311</td>\n",
              "      <td>9.022730890681093</td>\n",
              "      <td>11.357696900868802</td>\n",
              "      <td>8.966971907049517</td>\n",
              "    </tr>\n",
              "    <tr>\n",
              "      <th>5</th>\n",
              "      <td>25%</td>\n",
              "      <td>0.265448</td>\n",
              "      <td>-1.87378</td>\n",
              "      <td>0.633719</td>\n",
              "      <td>4.97216</td>\n",
              "      <td>-7.77074</td>\n",
              "    </tr>\n",
              "    <tr>\n",
              "      <th>6</th>\n",
              "      <td>50%</td>\n",
              "      <td>2.79395</td>\n",
              "      <td>0.809423</td>\n",
              "      <td>2.59511</td>\n",
              "      <td>6.29126</td>\n",
              "      <td>-2.82696</td>\n",
              "    </tr>\n",
              "    <tr>\n",
              "      <th>7</th>\n",
              "      <td>75%</td>\n",
              "      <td>6.0417</td>\n",
              "      <td>4.64963</td>\n",
              "      <td>6.68047</td>\n",
              "      <td>8.4705</td>\n",
              "      <td>-0.89481</td>\n",
              "    </tr>\n",
              "  </tbody>\n",
              "</table>\n",
              "</div>"
            ],
            "text/plain": [
              "  summary                   x1  ...                   x4                   x5\n",
              "0   count                  200  ...                  200                  200\n",
              "1    mean   2.0352039019903487  ...     6.04154518922876  -2.7039139824101306\n",
              "2  stddev    6.091311749909026  ...   3.0546488133009717    5.790982463724554\n",
              "3     min  -11.150208301693587  ...  -1.0430520160836434  -10.830307128490329\n",
              "4     max    12.17324601697663  ...   11.357696900868802    8.966971907049517\n",
              "5     25%             0.265448  ...              4.97216             -7.77074\n",
              "6     50%              2.79395  ...              6.29126             -2.82696\n",
              "7     75%               6.0417  ...               8.4705             -0.89481\n",
              "\n",
              "[8 rows x 6 columns]"
            ]
          },
          "metadata": {
            "tags": []
          },
          "execution_count": 14
        }
      ]
    },
    {
      "cell_type": "markdown",
      "metadata": {
        "id": "XyOrKJuMI4d1"
      },
      "source": [
        "### Histogram"
      ]
    },
    {
      "cell_type": "code",
      "metadata": {
        "id": "D4SB59dOI-lL"
      },
      "source": [
        "import matplotlib.pyplot as plt\n",
        "def histo(df,var):\n",
        "  x = list(df.select(var).toPandas()[var])\n",
        "  bins = np.arange(-20, 20, 5.0)\n",
        "\n",
        "  plt.figure(figsize=(5,4))\n",
        "  # the histogram of the data\n",
        "  plt.hist(x, bins, alpha=0.8, histtype='bar', color='gold',ec='black',weights=np.zeros_like(x) + 100. / len(x))\n",
        "  plt.xlabel(var)\n",
        "  plt.ylabel('percentage')\n",
        "  plt.xticks(bins)\n",
        "  plt.show()"
      ],
      "execution_count": 15,
      "outputs": []
    },
    {
      "cell_type": "code",
      "metadata": {
        "colab": {
          "base_uri": "https://localhost:8080/",
          "height": 0
        },
        "id": "0z9JAU5VK7lQ",
        "outputId": "b3c2b8f2-6c63-4032-b61c-7adb36bc8b20"
      },
      "source": [
        "for i in range(1,6):\n",
        "  histo(df,'x'+str(i))"
      ],
      "execution_count": 16,
      "outputs": [
        {
          "output_type": "display_data",
          "data": {
            "image/png": "[encoded data removed]",
            "text/plain": [
              "<Figure size 360x288 with 1 Axes>"
            ]
          },
          "metadata": {
            "tags": [],
            "needs_background": "light"
          }
        },
        {
          "output_type": "display_data",
          "data": {
            "image/png": "[encoded data removed]",
            "text/plain": [
              "<Figure size 360x288 with 1 Axes>"
            ]
          },
          "metadata": {
            "tags": [],
            "needs_background": "light"
          }
        },
        {
          "output_type": "display_data",
          "data": {
            "image/png": "[encoded data removed]",
            "text/plain": [
              "<Figure size 360x288 with 1 Axes>"
            ]
          },
          "metadata": {
            "tags": [],
            "needs_background": "light"
          }
        },
        {
          "output_type": "display_data",
          "data": {
            "image/png": "[encoded data removed]",
            "text/plain": [
              "<Figure size 360x288 with 1 Axes>"
            ]
          },
          "metadata": {
            "tags": [],
            "needs_background": "light"
          }
        },
        {
          "output_type": "display_data",
          "data": {
            "image/png": "[encoded data removed]",
            "text/plain": [
              "<Figure size 360x288 with 1 Axes>"
            ]
          },
          "metadata": {
            "tags": [],
            "needs_background": "light"
          }
        }
      ]
    },
    {
      "cell_type": "markdown",
      "metadata": {
        "id": "R-v_JkcrSPQa"
      },
      "source": [
        "### Box plot"
      ]
    },
    {
      "cell_type": "code",
      "metadata": {
        "colab": {
          "base_uri": "https://localhost:8080/",
          "height": 0
        },
        "id": "mag4FvFeSwSx",
        "outputId": "d52ad348-ae1e-4308-80ce-2c12fcff480a"
      },
      "source": [
        "import seaborn as sns\n",
        "def box_plot(df,var):\n",
        "  x = df.select(var).toPandas()\n",
        "  fig = plt.figure(figsize=(10, 4))\n",
        "  ax = fig.add_subplot(1, 2, 1)\n",
        "  ax = sns.boxplot(data=x)\n",
        "\n",
        "  ax = fig.add_subplot(1, 2, 2)\n",
        "  ax = sns.violinplot(data=x)\n",
        "\n",
        "for i in range(1,6):\n",
        "  box_plot(df,'x'+str(i))"
      ],
      "execution_count": 17,
      "outputs": [
        {
          "output_type": "display_data",
          "data": {
            "image/png": "[encoded data removed]",
            "text/plain": [
              "<Figure size 720x288 with 2 Axes>"
            ]
          },
          "metadata": {
            "tags": [],
            "needs_background": "light"
          }
        },
        {
          "output_type": "display_data",
          "data": {
            "image/png": "[encoded data removed]",
            "text/plain": [
              "<Figure size 720x288 with 2 Axes>"
            ]
          },
          "metadata": {
            "tags": [],
            "needs_background": "light"
          }
        },
        {
          "output_type": "display_data",
          "data": {
            "image/png": "[encoded data removed]",
            "text/plain": [
              "<Figure size 720x288 with 2 Axes>"
            ]
          },
          "metadata": {
            "tags": [],
            "needs_background": "light"
          }
        },
        {
          "output_type": "display_data",
          "data": {
            "image/png": "[encoded data removed]",
            "text/plain": [
              "<Figure size 720x288 with 2 Axes>"
            ]
          },
          "metadata": {
            "tags": [],
            "needs_background": "light"
          }
        },
        {
          "output_type": "display_data",
          "data": {
            "image/png": "[encoded data removed]",
            "text/plain": [
              "<Figure size 720x288 with 2 Axes>"
            ]
          },
          "metadata": {
            "tags": [],
            "needs_background": "light"
          }
        }
      ]
    },
    {
      "cell_type": "markdown",
      "metadata": {
        "id": "0Cji90SIUgg5"
      },
      "source": [
        "### Pie plot"
      ]
    },
    {
      "cell_type": "code",
      "metadata": {
        "colab": {
          "base_uri": "https://localhost:8080/",
          "height": 0
        },
        "id": "K7-5gHAjUkbZ",
        "outputId": "90cfe0e7-d7b4-4c09-b704-b2d6b9692a11"
      },
      "source": [
        "# Data to plot\n",
        "y = list(df.select('label').toPandas()['label'])\n",
        "labels = ['0','1','2','3','4']\n",
        "sizes =  df.select('label').toPandas()['label'].value_counts()\n",
        "# Plot\n",
        "plt.figure(figsize=(10,8))\n",
        "plt.pie(sizes, labels=labels,autopct='%1.1f%%')\n",
        "plt.axis('equal')\n",
        "plt.show()"
      ],
      "execution_count": 18,
      "outputs": [
        {
          "output_type": "display_data",
          "data": {
            "image/png": "[encoded data removed]",
            "text/plain": [
              "<Figure size 720x576 with 1 Axes>"
            ]
          },
          "metadata": {
            "tags": []
          }
        }
      ]
    },
    {
      "cell_type": "code",
      "metadata": {
        "colab": {
          "base_uri": "https://localhost:8080/"
        },
        "id": "QRF9iOrzWo2H",
        "outputId": "31ff5f01-9e0d-49cc-dc14-a0e5b0232734"
      },
      "source": [
        "y = df.select('label').toPandas()['label']\n",
        "print('-------------------------------------------------')\n",
        "print(\"Nombre de classe :\")\n",
        "print(len(y.value_counts()))\n",
        "print('-------------------------------------------------')\n",
        "print(\"Nombre d'occurence de chaque classe\")\n",
        "print(y.value_counts())\n",
        "print('-------------------------------------------------')\n",
        "print(\"Vérification du nombre de points\")\n",
        "len(y)"
      ],
      "execution_count": 19,
      "outputs": [
        {
          "output_type": "stream",
          "text": [
            "-------------------------------------------------\n",
            "Nombre de classe :\n",
            "5\n",
            "-------------------------------------------------\n",
            "Nombre d'occurence de chaque classe\n",
            "4    40\n",
            "3    40\n",
            "2    40\n",
            "1    40\n",
            "0    40\n",
            "Name: label, dtype: int64\n",
            "-------------------------------------------------\n",
            "Vérification du nombre de points\n"
          ],
          "name": "stdout"
        },
        {
          "output_type": "execute_result",
          "data": {
            "text/plain": [
              "200"
            ]
          },
          "metadata": {
            "tags": []
          },
          "execution_count": 19
        }
      ]
    },
    {
      "cell_type": "markdown",
      "metadata": {
        "id": "V4-ENfEVk-WD"
      },
      "source": [
        "## **Clustering avec des implémentations disponibles**"
      ]
    },
    {
      "cell_type": "markdown",
      "metadata": {
        "id": "-CIvAPlumXGm"
      },
      "source": [
        "### K-means sklearn"
      ]
    },
    {
      "cell_type": "code",
      "metadata": {
        "colab": {
          "base_uri": "https://localhost:8080/"
        },
        "id": "BMYciir0lFvI",
        "outputId": "9a90c3e7-ad5b-40ed-bd6d-1814dc928713"
      },
      "source": [
        "from time import time\n",
        "from sklearn.cluster import KMeans\n",
        "t0 = time() \n",
        "kmeans_sk = KMeans(n_clusters=5, random_state=0).fit(X_old)\n",
        "fit_time_sklearn = time() - t0\n",
        "\n",
        "print(fit_time_sklearn)\n"
      ],
      "execution_count": 20,
      "outputs": [
        {
          "output_type": "stream",
          "text": [
            "0.032808542251586914\n"
          ],
          "name": "stdout"
        }
      ]
    },
    {
      "cell_type": "markdown",
      "metadata": {
        "id": "KWfssx8hsggZ"
      },
      "source": [
        "### K-means Spark"
      ]
    },
    {
      "cell_type": "code",
      "metadata": {
        "colab": {
          "base_uri": "https://localhost:8080/"
        },
        "id": "JK2vdMew-ozS",
        "outputId": "6046b59c-c41c-49c0-ec49-76877cd70672"
      },
      "source": [
        "#RDD\n",
        "from pyspark.mllib.clustering import KMeans, KMeansModel\n",
        "\n",
        "#rdd = df.select('x1', 'x2','x3','x4','x5').rdd.map(lambda x: (x[0], x[1],x[2],x[3],x[4]))\n",
        "rdd = sc.parallelize(X_old) #X_old c'est les données sans y\n",
        "t0 = time()\n",
        "kmeans_rdd = KMeans.train(rdd, 5) # works OK\n",
        "fit_time_spark_rdd = time() - t0\n",
        "print(fit_time_spark_rdd)"
      ],
      "execution_count": 21,
      "outputs": [
        {
          "output_type": "stream",
          "text": [
            "2.010528326034546\n"
          ],
          "name": "stdout"
        }
      ]
    },
    {
      "cell_type": "code",
      "metadata": {
        "colab": {
          "base_uri": "https://localhost:8080/"
        },
        "id": "2Ul2QOGRF4r4",
        "outputId": "69de84a2-98fb-4db8-cabc-d7cde40787be"
      },
      "source": [
        "#DATAFRAME\n",
        "from pyspark.ml.clustering import KMeans\n",
        "from pyspark.ml.feature import VectorAssembler\n",
        "\n",
        "vecAssembler = VectorAssembler(inputCols=[\"x1\", \"x2\",\"x3\",\"x4\",\"x5\"], outputCol=\"features\")\n",
        "new_df = vecAssembler.transform(df)\n",
        "t0 = time()\n",
        "kmeans_df = KMeans(k=5,seed=1).fit(new_df.select('features'))\n",
        "fit_time_spark_df = time() - t0\n",
        "transformed = kmeans_df.transform(new_df)\n",
        "transformed.show()  \n",
        "print(fit_time_spark_df)\n"
      ],
      "execution_count": 22,
      "outputs": [
        {
          "output_type": "stream",
          "text": [
            "+-------------------+-------------------+--------------------+------------------+-------------------+-----+--------------------+----------+\n",
            "|                 x1|                 x2|                  x3|                x4|                 x5|label|            features|prediction|\n",
            "+-------------------+-------------------+--------------------+------------------+-------------------+-----+--------------------+----------+\n",
            "|  9.737447531579186|  6.579859063057388|-0.00963015514521...| 6.577064878777346| -7.768403717212576|    4|[9.73744753157918...|         0|\n",
            "|   -9.1877177533997| -8.706651939188918|   8.347858743793314| 5.549507509807856|  7.124050957666331|    3|[-9.1877177533997...|         2|\n",
            "|  -8.31459870616134|-10.533293810038192|   6.089086872586623| 6.456398445553255|  6.960131670034357|    3|[-8.3145987061613...|         2|\n",
            "| 11.349884029749012|  6.486650408782675| -0.7634931991348638|  5.30927631993705|-7.7316191225388735|    4|[11.3498840297490...|         0|\n",
            "| 2.0922085326695736|  5.643240343996315| 0.28783387004372885|1.3220761187662515|-0.4375949681172917|    0|[2.09220853266957...|         3|\n",
            "| 4.0241937913781385|  2.108725192812341|  1.3276401286681156| 8.439950728053807| -8.510625857746506|    2|[4.02419379137813...|         4|\n",
            "| -7.648884964639811|-10.462421619445085|   6.086206236602841| 5.286682270599978|   5.25820246041752|    3|[-7.6488849646398...|         2|\n",
            "| -8.174720916674143| -8.573063647073708|   5.173345201817915| 7.464186407100508|   6.52692524110147|    3|[-8.1747209166741...|         2|\n",
            "|-11.150208301693587|-10.357033382748115|   8.627534751277032| 6.669069137961834|  8.513441321127553|    3|[-11.150208301693...|         2|\n",
            "|  8.193316401161752|  4.485048994893726|  1.1384891879052663|6.2965629617746055| -9.254264599981665|    4|[8.19331640116175...|         0|\n",
            "|  4.115142126191094|-1.6307419881606213|   8.527121934011419| 9.627140221495804|-1.2835842860666313|    1|[4.11514212619109...|         1|\n",
            "|  0.137939113014385|  4.684951071883764|  1.0643642392752943|1.9155437096552215|-1.1853166172777683|    0|[0.13793911301438...|         3|\n",
            "| 0.7671414611818693|  4.908359604278473|  0.3122092905098959|2.4218904727036934|0.33667130456610317|    0|[0.76714146118186...|         3|\n",
            "| -8.940375993045423|-10.248758556938975|   7.082163560478191| 5.389863047815111|  8.480844215147473|    3|[-8.9403759930454...|         2|\n",
            "|  9.446238673862357|  5.734584719432153| -0.4082611952260215| 5.197087453739938|-6.0941225706388895|    4|[9.44623867386235...|         0|\n",
            "| 10.356071367964951|  6.645290480420435| 0.18162732348424881| 4.979636150652692| -9.054788745559323|    4|[10.3560713679649...|         0|\n",
            "| 1.3076388013174252| 0.1823461232260637|   6.110074294085781| 9.632504798662717| -1.449234669414756|    1|[1.30763880131742...|         1|\n",
            "|  9.297876791153074|  7.355057713696429| -1.0665178373906505| 5.392566642055207| -7.174854365099706|    4|[9.29787679115307...|         0|\n",
            "| 1.6532868231321063|-0.3913225992272097|   7.341465669759662| 9.287891868443028|-3.9376360822322782|    1|[1.65328682313210...|         1|\n",
            "| 10.065130946318524|  6.490126014003019| -0.6272304911959674|5.1050202177861586| -8.922794266902553|    4|[10.0651309463185...|         0|\n",
            "+-------------------+-------------------+--------------------+------------------+-------------------+-----+--------------------+----------+\n",
            "only showing top 20 rows\n",
            "\n",
            "4.589735746383667\n"
          ],
          "name": "stdout"
        }
      ]
    },
    {
      "cell_type": "markdown",
      "metadata": {
        "id": "oLhq775TWk9q"
      },
      "source": [
        "### Evaluation du clustering"
      ]
    },
    {
      "cell_type": "code",
      "metadata": {
        "colab": {
          "base_uri": "https://localhost:8080/"
        },
        "id": "usCwx80eWxin",
        "outputId": "a2d3d526-f739-4a0f-f7cb-cd64841f2416"
      },
      "source": [
        "from sklearn.metrics.cluster import normalized_mutual_info_score\n",
        "# #sklearn :\n",
        "print('kmeans sklearn nmi score :',normalized_mutual_info_score(y,kmeans_sk.labels_))\n",
        "# #spark_rdd :\n",
        "\n",
        "# #spark_df :\n",
        "print('kmeans dataframe api nmi score :',normalized_mutual_info_score(y,transformed.select('prediction').toPandas()['prediction']))"
      ],
      "execution_count": 23,
      "outputs": [
        {
          "output_type": "stream",
          "text": [
            "kmeans sklearn nmi score : 1.0\n",
            "kmeans dataframe api nmi score : 1.0\n"
          ],
          "name": "stdout"
        }
      ]
    },
    {
      "cell_type": "markdown",
      "metadata": {
        "id": "byNXZoYphULu"
      },
      "source": [
        "### Run time"
      ]
    },
    {
      "cell_type": "code",
      "metadata": {
        "colab": {
          "base_uri": "https://localhost:8080/"
        },
        "id": "TAXrfzYUhlm1",
        "outputId": "5276f06e-b3d7-46f3-994d-61d6fb1f07bb"
      },
      "source": [
        "print('kmeans sklearn :',fit_time_sklearn)\n",
        "print('kmeans spark rdd :',fit_time_spark_rdd)\n",
        "print('kmeans spark dataframe :',fit_time_spark_df)\n",
        "\n",
        "\n"
      ],
      "execution_count": 24,
      "outputs": [
        {
          "output_type": "stream",
          "text": [
            "kmeans sklearn : 0.032808542251586914\n",
            "kmeans spark rdd : 2.010528326034546\n",
            "kmeans spark dataframe : 4.589735746383667\n"
          ],
          "name": "stdout"
        }
      ]
    },
    {
      "cell_type": "markdown",
      "metadata": {
        "id": "wBFaDN94hnOn"
      },
      "source": [
        "## **Implémentation de K-means**"
      ]
    },
    {
      "cell_type": "code",
      "metadata": {
        "colab": {
          "base_uri": "https://localhost:8080/"
        },
        "id": "S1V9VQMyhrff",
        "outputId": "8a093b05-b095-4ab1-a026-2ac552db7045"
      },
      "source": [
        "X,y= make_blobs(n_samples=10, centers=5, n_features=1,random_state=0)\n",
        "XX =[]\n",
        "for i in X:\n",
        "  XX.append(i[0])\n",
        "X = XX\n",
        "points = sc.parallelize(X)\n",
        "cluster_ids = sc.parallelize(y)\n",
        "def compute_centroids(points,cluster_ids):\n",
        "  # RDD sum_by_cluster_id\n",
        "  def summ(a,b):\n",
        "    return a+b\n",
        "  rdd = cluster_ids.zip(points)\n",
        "  sum_by_cluster_id = rdd.reduceByKey(summ)\n",
        "\n",
        "  # RDD count_by_cluster_id\n",
        "  count_by_cluster_id = cluster_ids.map(lambda x : (x, 1)).reduceByKey(summ)\n",
        "  def moy(a):\n",
        "    b,c = a\n",
        "    d,e = b\n",
        "    f,g = c\n",
        "    return (d,e/g)\n",
        "\n",
        "  # RDD de couples (cluster_id, moyenne)\n",
        "  centroids = sum_by_cluster_id.zip(count_by_cluster_id).map(moy)\n",
        "\n",
        "  return centroids\n",
        "\n",
        "centroids = compute_centroids(points,cluster_ids)\n",
        "for element in centroids.collect():\n",
        "    print(element)"
      ],
      "execution_count": 25,
      "outputs": [
        {
          "output_type": "stream",
          "text": [
            "(1, 4.6839083224970235)\n",
            "(4, -0.9125929840218963)\n",
            "(3, 1.4293899763516333)\n",
            "(2, 3.8682738671961276)\n",
            "(0, 1.5398702755667988)\n"
          ],
          "name": "stdout"
        }
      ]
    },
    {
      "cell_type": "code",
      "metadata": {
        "id": "MSpT7NX4NYkx"
      },
      "source": [
        "from math import sqrt\n",
        "def squared_distances(x,list_centers):\n",
        "  list_dist = []\n",
        "  for y in list_centers:\n",
        "    list_dist.append(sqrt((x-y)**2))\n",
        "  return list_dist "
      ],
      "execution_count": 26,
      "outputs": []
    },
    {
      "cell_type": "code",
      "metadata": {
        "id": "ohPEG0r3QGB3"
      },
      "source": [
        "import numpy\n",
        "def assign_clusters(points,centroids):\n",
        "  centroids_sorted = centroids.sortByKey()\n",
        "  list_centers = []\n",
        "  assign=[]\n",
        "  for id,center in centroids_sorted.collect():\n",
        "    list_centers.append(center)\n",
        "  for x in points.collect():\n",
        "    assign.append(numpy.argmin(numpy.array(squared_distances(x,list_centers))))\n",
        "  rdd_assign = sc.parallelize(assign)\n",
        "  return rdd_assign\n",
        "\n",
        "rdd_new = assign_clusters(points,centroids)\n",
        "\n",
        "\n"
      ],
      "execution_count": 27,
      "outputs": []
    },
    {
      "cell_type": "markdown",
      "metadata": {
        "id": "KslramLoF4M8"
      },
      "source": [
        "## **Implémentation K-means ( le cas multidimensionnel)**"
      ]
    },
    {
      "cell_type": "code",
      "metadata": {
        "id": "pwPJyvaQGjRl",
        "outputId": "e7443bea-8c1e-4abc-b406-0ab9a4199f96",
        "colab": {
          "base_uri": "https://localhost:8080/"
        }
      },
      "source": [
        "#Génération de data multi-dimentionnels\n",
        "\n",
        "X,y= make_blobs(n_samples=10, centers=5, n_features=3,random_state=0)\n",
        "li = []\n",
        "XX = []\n",
        "X\n",
        "for i in X:\n",
        "  for j in i:\n",
        "    li.append(j)\n",
        "  XX.append(li)\n",
        "  li = []\n",
        "X = XX\n",
        "#--------------------------------------\n",
        "points = sc.parallelize(X)\n",
        "cluster_ids = sc.parallelize(y)\n",
        "#--------------------------------------\n",
        "\n",
        "# function compute_centroids adaptée\n",
        "\n",
        "def compute_centroids(points,cluster_ids):\n",
        "  def summ(a,b):\n",
        "    return a+b\n",
        "\n",
        "  def sum_multi(list1, list2):\n",
        "    sum = [x + y for (x, y) in zip(list1, list2)]\n",
        "    return sum\n",
        "  \n",
        "  def moy_multi(a):\n",
        "    b,c = a\n",
        "    d,e = b\n",
        "    f,g = c\n",
        "    return (d,[i/g for i in e])\n",
        "\n",
        "  rdd = cluster_ids.zip(points)\n",
        "  sum_by_cluster_id = rdd.reduceByKey(sum_multi)\n",
        "\n",
        "  # RDD count_by_cluster_id\n",
        "  count_by_cluster_id = cluster_ids.map(lambda x : (x, 1)).reduceByKey(summ)\n",
        "\n",
        "  # RDD de couples (cluster_id, moyenne)\n",
        "  centroids = sum_by_cluster_id.zip(count_by_cluster_id).map(moy_multi)\n",
        "\n",
        "  return centroids\n",
        "\n",
        "  \n",
        "centroids = compute_centroids(points,cluster_ids)\n",
        "for element in centroids.collect():\n",
        "    print(element)\n",
        "\n",
        "\n"
      ],
      "execution_count": 28,
      "outputs": [
        {
          "output_type": "stream",
          "text": [
            "(0, [1.9235284711724345, 4.406121721311651, 2.10207539285544])\n",
            "(1, [0.757569976248603, -2.120188870774235, 2.651252915371458])\n",
            "(3, [-1.350213469316754, 6.80287533029096, -0.2459992381788279])\n",
            "(4, [1.7684524856809887, 8.087748327913637, -9.510060310467114])\n",
            "(2, [-1.345648123222302, 9.3240258812278, 9.874241073859515])\n"
          ],
          "name": "stdout"
        }
      ]
    },
    {
      "cell_type": "code",
      "metadata": {
        "id": "1mRdu4DZf_RS"
      },
      "source": [
        "# function squared_distances  adaptée\n",
        "\n",
        "from math import sqrt\n",
        "def distance(list1, list2):\n",
        "    \"\"\"Distance between two vectors.\"\"\"\n",
        "    squares = [(p-q) ** 2 for p, q in zip(list1, list2)]\n",
        "    return sum(squares) ** .5\n",
        "\n",
        "def squared_distances(x,list_centers):\n",
        "  list_dist = []\n",
        "  for y in list_centers:\n",
        "    list_dist.append(distance(x,y))\n",
        "  return list_dist \n",
        "\n",
        "# function assign_clusters  adaptée\n",
        "\n",
        "def assign_clusters(points,centroids):\n",
        "  centroids_sorted = centroids.sortByKey()\n",
        "  list_centers = []\n",
        "  assign=[]\n",
        "  for id,center in centroids_sorted.collect():\n",
        "    list_centers.append(center)\n",
        "  for x in points.collect():\n",
        "    assign.append(numpy.argmin(numpy.array(squared_distances(x,list_centers))))\n",
        "  rdd_assign = sc.parallelize(assign)\n",
        "  return rdd_assign\n",
        "rdd_new = assign_clusters(points,centroids)\n",
        "\n"
      ],
      "execution_count": 29,
      "outputs": []
    }
  ]
}